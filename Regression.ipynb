{
 "cells": [
  {
   "cell_type": "markdown",
   "metadata": {},
   "source": [
    "# <span style=\"color:red\"> **** Regression **** </span>\n",
    "\n",
    "## <span style=\"color:blue\" > ***_what is regression_?:*** </span>\n",
    "\n",
    "\n",
    "In statistics, determining a relationship between a dependent variable usually denoted by y and several indipendent variables, usually denoted by X is called regression.\n",
    "\n",
    "## <span style=\"color:maroon\"> *** Types of Regressions *** </span>\n",
    "\n",
    "Basically, there are two types of regressions: </span>\n",
    "\n",
    "### <span style=\"color:green\"> 1. _Linear Regression_:</span>\n",
    "\n",
    "In linear regression the outcome or the dependent variable, will be continuous. Which means, there won't be any similarity between two values.\n",
    "\n",
    "### <span style=\"color:green\"> 2. _Logistic Regression_: </span>\n",
    "\n",
    "In Logistic regression, the dependent values will be discrete. Which means, the values will be repeating. Logistic regression is also known as classification. If the number of classes are 2, then the model is called binray logistic regression. If there are multiple repeating values, then the model is called Multi Class classification.\n",
    "\n",
    "So, lets see how do we write a code for _linear regression_"
   ]
  },
  {
   "cell_type": "markdown",
   "metadata": {},
   "source": [
    "In python all the machine learning models are stored in the sci-kit learn package. So, let's import it."
   ]
  },
  {
   "cell_type": "code",
   "execution_count": 1,
   "metadata": {},
   "outputs": [],
   "source": [
    "import pandas as pd"
   ]
  },
  {
   "cell_type": "code",
   "execution_count": 2,
   "metadata": {},
   "outputs": [],
   "source": [
    "import numpy as np"
   ]
  },
  {
   "cell_type": "code",
   "execution_count": 3,
   "metadata": {},
   "outputs": [],
   "source": [
    "import matplotlib.pyplot as plt"
   ]
  },
  {
   "cell_type": "code",
   "execution_count": 4,
   "metadata": {},
   "outputs": [],
   "source": [
    "%matplotlib inline"
   ]
  },
  {
   "cell_type": "code",
   "execution_count": 5,
   "metadata": {},
   "outputs": [],
   "source": [
    "import seaborn as sns"
   ]
  },
  {
   "cell_type": "code",
   "execution_count": 6,
   "metadata": {},
   "outputs": [],
   "source": [
    "from sklearn.linear_model import LinearRegression"
   ]
  },
  {
   "cell_type": "code",
   "execution_count": 7,
   "metadata": {},
   "outputs": [],
   "source": [
    "usedcar_df = pd.read_csv(\"Usedcarssales.csv\")"
   ]
  },
  {
   "cell_type": "code",
   "execution_count": 8,
   "metadata": {},
   "outputs": [
    {
     "data": {
      "text/html": [
       "<div>\n",
       "<style scoped>\n",
       "    .dataframe tbody tr th:only-of-type {\n",
       "        vertical-align: middle;\n",
       "    }\n",
       "\n",
       "    .dataframe tbody tr th {\n",
       "        vertical-align: top;\n",
       "    }\n",
       "\n",
       "    .dataframe thead th {\n",
       "        text-align: right;\n",
       "    }\n",
       "</style>\n",
       "<table border=\"1\" class=\"dataframe\">\n",
       "  <thead>\n",
       "    <tr style=\"text-align: right;\">\n",
       "      <th></th>\n",
       "      <th>Unnamed: 0</th>\n",
       "      <th>yearOfRegistration</th>\n",
       "      <th>powerPS</th>\n",
       "      <th>kilometer</th>\n",
       "      <th>monthOfRegistration</th>\n",
       "      <th>namelen</th>\n",
       "      <th>name_feat</th>\n",
       "      <th>gearbox_feat</th>\n",
       "      <th>notRepairedDamage_feat</th>\n",
       "      <th>model_feat</th>\n",
       "      <th>brand_feat</th>\n",
       "      <th>fuelType_feat</th>\n",
       "      <th>vehicleType_feat</th>\n",
       "      <th>Price</th>\n",
       "    </tr>\n",
       "  </thead>\n",
       "  <tbody>\n",
       "    <tr>\n",
       "      <th>0</th>\n",
       "      <td>1</td>\n",
       "      <td>2011</td>\n",
       "      <td>190</td>\n",
       "      <td>125000</td>\n",
       "      <td>5</td>\n",
       "      <td>20</td>\n",
       "      <td>2857</td>\n",
       "      <td>1</td>\n",
       "      <td>0</td>\n",
       "      <td>163</td>\n",
       "      <td>1</td>\n",
       "      <td>3</td>\n",
       "      <td>3</td>\n",
       "      <td>9.814711</td>\n",
       "    </tr>\n",
       "    <tr>\n",
       "      <th>1</th>\n",
       "      <td>2</td>\n",
       "      <td>2004</td>\n",
       "      <td>163</td>\n",
       "      <td>125000</td>\n",
       "      <td>8</td>\n",
       "      <td>30</td>\n",
       "      <td>73860</td>\n",
       "      <td>0</td>\n",
       "      <td>2</td>\n",
       "      <td>119</td>\n",
       "      <td>14</td>\n",
       "      <td>3</td>\n",
       "      <td>8</td>\n",
       "      <td>9.190240</td>\n",
       "    </tr>\n",
       "    <tr>\n",
       "      <th>2</th>\n",
       "      <td>3</td>\n",
       "      <td>2001</td>\n",
       "      <td>75</td>\n",
       "      <td>150000</td>\n",
       "      <td>6</td>\n",
       "      <td>18</td>\n",
       "      <td>63156</td>\n",
       "      <td>1</td>\n",
       "      <td>1</td>\n",
       "      <td>118</td>\n",
       "      <td>38</td>\n",
       "      <td>1</td>\n",
       "      <td>4</td>\n",
       "      <td>7.313887</td>\n",
       "    </tr>\n",
       "    <tr>\n",
       "      <th>3</th>\n",
       "      <td>4</td>\n",
       "      <td>2008</td>\n",
       "      <td>69</td>\n",
       "      <td>90000</td>\n",
       "      <td>7</td>\n",
       "      <td>30</td>\n",
       "      <td>139159</td>\n",
       "      <td>1</td>\n",
       "      <td>1</td>\n",
       "      <td>103</td>\n",
       "      <td>31</td>\n",
       "      <td>3</td>\n",
       "      <td>4</td>\n",
       "      <td>8.188967</td>\n",
       "    </tr>\n",
       "    <tr>\n",
       "      <th>4</th>\n",
       "      <td>5</td>\n",
       "      <td>1995</td>\n",
       "      <td>102</td>\n",
       "      <td>150000</td>\n",
       "      <td>10</td>\n",
       "      <td>50</td>\n",
       "      <td>22533</td>\n",
       "      <td>1</td>\n",
       "      <td>0</td>\n",
       "      <td>11</td>\n",
       "      <td>2</td>\n",
       "      <td>1</td>\n",
       "      <td>6</td>\n",
       "      <td>6.478510</td>\n",
       "    </tr>\n",
       "  </tbody>\n",
       "</table>\n",
       "</div>"
      ],
      "text/plain": [
       "   Unnamed: 0  yearOfRegistration  powerPS  kilometer  monthOfRegistration  \\\n",
       "0           1                2011      190     125000                    5   \n",
       "1           2                2004      163     125000                    8   \n",
       "2           3                2001       75     150000                    6   \n",
       "3           4                2008       69      90000                    7   \n",
       "4           5                1995      102     150000                   10   \n",
       "\n",
       "   namelen  name_feat  gearbox_feat  notRepairedDamage_feat  model_feat  \\\n",
       "0       20       2857             1                       0         163   \n",
       "1       30      73860             0                       2         119   \n",
       "2       18      63156             1                       1         118   \n",
       "3       30     139159             1                       1         103   \n",
       "4       50      22533             1                       0          11   \n",
       "\n",
       "   brand_feat  fuelType_feat  vehicleType_feat     Price  \n",
       "0           1              3                 3  9.814711  \n",
       "1          14              3                 8  9.190240  \n",
       "2          38              1                 4  7.313887  \n",
       "3          31              3                 4  8.188967  \n",
       "4           2              1                 6  6.478510  "
      ]
     },
     "execution_count": 8,
     "metadata": {},
     "output_type": "execute_result"
    }
   ],
   "source": [
    "usedcar_df.head()"
   ]
  },
  {
   "cell_type": "code",
   "execution_count": 9,
   "metadata": {},
   "outputs": [],
   "source": [
    "def plot_correlation_map( df ):\n",
    "    corr = df.corr()\n",
    "    _ , ax = plt.subplots( figsize =( 12 , 10 ) )\n",
    "    cmap = sns.diverging_palette( 220 , 10 , as_cmap = True )\n",
    "    _ = sns.heatmap(\n",
    "        corr, \n",
    "        cmap = cmap,\n",
    "        square=True, \n",
    "        cbar_kws={ 'shrink' : .9 }, \n",
    "        ax=ax, \n",
    "        annot = True, \n",
    "        annot_kws = { 'fontsize' : 12 }\n",
    "    )"
   ]
  },
  {
   "cell_type": "code",
   "execution_count": 10,
   "metadata": {},
   "outputs": [
    {
     "data": {
      "text/html": [
       "<div>\n",
       "<style scoped>\n",
       "    .dataframe tbody tr th:only-of-type {\n",
       "        vertical-align: middle;\n",
       "    }\n",
       "\n",
       "    .dataframe tbody tr th {\n",
       "        vertical-align: top;\n",
       "    }\n",
       "\n",
       "    .dataframe thead th {\n",
       "        text-align: right;\n",
       "    }\n",
       "</style>\n",
       "<table border=\"1\" class=\"dataframe\">\n",
       "  <thead>\n",
       "    <tr style=\"text-align: right;\">\n",
       "      <th></th>\n",
       "      <th>Unnamed: 0</th>\n",
       "      <th>yearOfRegistration</th>\n",
       "      <th>powerPS</th>\n",
       "      <th>kilometer</th>\n",
       "      <th>monthOfRegistration</th>\n",
       "      <th>namelen</th>\n",
       "      <th>name_feat</th>\n",
       "      <th>gearbox_feat</th>\n",
       "      <th>notRepairedDamage_feat</th>\n",
       "      <th>model_feat</th>\n",
       "      <th>brand_feat</th>\n",
       "      <th>fuelType_feat</th>\n",
       "      <th>vehicleType_feat</th>\n",
       "      <th>Price</th>\n",
       "    </tr>\n",
       "  </thead>\n",
       "  <tbody>\n",
       "    <tr>\n",
       "      <th>Unnamed: 0</th>\n",
       "      <td>1.000000</td>\n",
       "      <td>-0.003761</td>\n",
       "      <td>0.000748</td>\n",
       "      <td>0.003575</td>\n",
       "      <td>-0.001194</td>\n",
       "      <td>-0.005766</td>\n",
       "      <td>0.001829</td>\n",
       "      <td>-0.000744</td>\n",
       "      <td>0.000527</td>\n",
       "      <td>-0.000600</td>\n",
       "      <td>0.001523</td>\n",
       "      <td>-0.001659</td>\n",
       "      <td>0.000650</td>\n",
       "      <td>-0.003951</td>\n",
       "    </tr>\n",
       "    <tr>\n",
       "      <th>yearOfRegistration</th>\n",
       "      <td>-0.003761</td>\n",
       "      <td>1.000000</td>\n",
       "      <td>0.186486</td>\n",
       "      <td>-0.333933</td>\n",
       "      <td>0.044390</td>\n",
       "      <td>0.158798</td>\n",
       "      <td>-0.016603</td>\n",
       "      <td>-0.094694</td>\n",
       "      <td>-0.015699</td>\n",
       "      <td>0.041173</td>\n",
       "      <td>-0.044526</td>\n",
       "      <td>0.142402</td>\n",
       "      <td>0.058958</td>\n",
       "      <td>0.508596</td>\n",
       "    </tr>\n",
       "    <tr>\n",
       "      <th>powerPS</th>\n",
       "      <td>0.000748</td>\n",
       "      <td>0.186486</td>\n",
       "      <td>1.000000</td>\n",
       "      <td>-0.014727</td>\n",
       "      <td>0.038635</td>\n",
       "      <td>0.106243</td>\n",
       "      <td>-0.278687</td>\n",
       "      <td>-0.447440</td>\n",
       "      <td>-0.022761</td>\n",
       "      <td>-0.132902</td>\n",
       "      <td>-0.310254</td>\n",
       "      <td>0.086305</td>\n",
       "      <td>0.112243</td>\n",
       "      <td>0.561849</td>\n",
       "    </tr>\n",
       "    <tr>\n",
       "      <th>kilometer</th>\n",
       "      <td>0.003575</td>\n",
       "      <td>-0.333933</td>\n",
       "      <td>-0.014727</td>\n",
       "      <td>1.000000</td>\n",
       "      <td>-0.016177</td>\n",
       "      <td>-0.105892</td>\n",
       "      <td>-0.025035</td>\n",
       "      <td>0.035524</td>\n",
       "      <td>0.005072</td>\n",
       "      <td>-0.023827</td>\n",
       "      <td>-0.026645</td>\n",
       "      <td>0.115204</td>\n",
       "      <td>0.043183</td>\n",
       "      <td>-0.415135</td>\n",
       "    </tr>\n",
       "    <tr>\n",
       "      <th>monthOfRegistration</th>\n",
       "      <td>-0.001194</td>\n",
       "      <td>0.044390</td>\n",
       "      <td>0.038635</td>\n",
       "      <td>-0.016177</td>\n",
       "      <td>1.000000</td>\n",
       "      <td>0.044338</td>\n",
       "      <td>-0.007326</td>\n",
       "      <td>-0.049902</td>\n",
       "      <td>-0.050227</td>\n",
       "      <td>-0.009070</td>\n",
       "      <td>-0.012156</td>\n",
       "      <td>-0.035938</td>\n",
       "      <td>-0.004369</td>\n",
       "      <td>0.091781</td>\n",
       "    </tr>\n",
       "    <tr>\n",
       "      <th>namelen</th>\n",
       "      <td>-0.005766</td>\n",
       "      <td>0.158798</td>\n",
       "      <td>0.106243</td>\n",
       "      <td>-0.105892</td>\n",
       "      <td>0.044338</td>\n",
       "      <td>1.000000</td>\n",
       "      <td>0.101474</td>\n",
       "      <td>-0.150795</td>\n",
       "      <td>-0.008167</td>\n",
       "      <td>0.078520</td>\n",
       "      <td>0.100056</td>\n",
       "      <td>0.043864</td>\n",
       "      <td>-0.026672</td>\n",
       "      <td>0.215490</td>\n",
       "    </tr>\n",
       "    <tr>\n",
       "      <th>name_feat</th>\n",
       "      <td>0.001829</td>\n",
       "      <td>-0.016603</td>\n",
       "      <td>-0.278687</td>\n",
       "      <td>-0.025035</td>\n",
       "      <td>-0.007326</td>\n",
       "      <td>0.101474</td>\n",
       "      <td>1.000000</td>\n",
       "      <td>0.113288</td>\n",
       "      <td>-0.001520</td>\n",
       "      <td>0.453217</td>\n",
       "      <td>0.850018</td>\n",
       "      <td>-0.025088</td>\n",
       "      <td>-0.114425</td>\n",
       "      <td>-0.105014</td>\n",
       "    </tr>\n",
       "    <tr>\n",
       "      <th>gearbox_feat</th>\n",
       "      <td>-0.000744</td>\n",
       "      <td>-0.094694</td>\n",
       "      <td>-0.447440</td>\n",
       "      <td>0.035524</td>\n",
       "      <td>-0.049902</td>\n",
       "      <td>-0.150795</td>\n",
       "      <td>0.113288</td>\n",
       "      <td>1.000000</td>\n",
       "      <td>0.038948</td>\n",
       "      <td>0.046971</td>\n",
       "      <td>0.125735</td>\n",
       "      <td>-0.057441</td>\n",
       "      <td>-0.092224</td>\n",
       "      <td>-0.303097</td>\n",
       "    </tr>\n",
       "    <tr>\n",
       "      <th>notRepairedDamage_feat</th>\n",
       "      <td>0.000527</td>\n",
       "      <td>-0.015699</td>\n",
       "      <td>-0.022761</td>\n",
       "      <td>0.005072</td>\n",
       "      <td>-0.050227</td>\n",
       "      <td>-0.008167</td>\n",
       "      <td>-0.001520</td>\n",
       "      <td>0.038948</td>\n",
       "      <td>1.000000</td>\n",
       "      <td>0.017825</td>\n",
       "      <td>0.016474</td>\n",
       "      <td>0.061819</td>\n",
       "      <td>0.027220</td>\n",
       "      <td>0.020543</td>\n",
       "    </tr>\n",
       "    <tr>\n",
       "      <th>model_feat</th>\n",
       "      <td>-0.000600</td>\n",
       "      <td>0.041173</td>\n",
       "      <td>-0.132902</td>\n",
       "      <td>-0.023827</td>\n",
       "      <td>-0.009070</td>\n",
       "      <td>0.078520</td>\n",
       "      <td>0.453217</td>\n",
       "      <td>0.046971</td>\n",
       "      <td>0.017825</td>\n",
       "      <td>1.000000</td>\n",
       "      <td>0.472098</td>\n",
       "      <td>0.049058</td>\n",
       "      <td>-0.136196</td>\n",
       "      <td>-0.034321</td>\n",
       "    </tr>\n",
       "    <tr>\n",
       "      <th>brand_feat</th>\n",
       "      <td>0.001523</td>\n",
       "      <td>-0.044526</td>\n",
       "      <td>-0.310254</td>\n",
       "      <td>-0.026645</td>\n",
       "      <td>-0.012156</td>\n",
       "      <td>0.100056</td>\n",
       "      <td>0.850018</td>\n",
       "      <td>0.125735</td>\n",
       "      <td>0.016474</td>\n",
       "      <td>0.472098</td>\n",
       "      <td>1.000000</td>\n",
       "      <td>-0.023840</td>\n",
       "      <td>-0.102601</td>\n",
       "      <td>-0.118818</td>\n",
       "    </tr>\n",
       "    <tr>\n",
       "      <th>fuelType_feat</th>\n",
       "      <td>-0.001659</td>\n",
       "      <td>0.142402</td>\n",
       "      <td>0.086305</td>\n",
       "      <td>0.115204</td>\n",
       "      <td>-0.035938</td>\n",
       "      <td>0.043864</td>\n",
       "      <td>-0.025088</td>\n",
       "      <td>-0.057441</td>\n",
       "      <td>0.061819</td>\n",
       "      <td>0.049058</td>\n",
       "      <td>-0.023840</td>\n",
       "      <td>1.000000</td>\n",
       "      <td>0.090201</td>\n",
       "      <td>0.074608</td>\n",
       "    </tr>\n",
       "    <tr>\n",
       "      <th>vehicleType_feat</th>\n",
       "      <td>0.000650</td>\n",
       "      <td>0.058958</td>\n",
       "      <td>0.112243</td>\n",
       "      <td>0.043183</td>\n",
       "      <td>-0.004369</td>\n",
       "      <td>-0.026672</td>\n",
       "      <td>-0.114425</td>\n",
       "      <td>-0.092224</td>\n",
       "      <td>0.027220</td>\n",
       "      <td>-0.136196</td>\n",
       "      <td>-0.102601</td>\n",
       "      <td>0.090201</td>\n",
       "      <td>1.000000</td>\n",
       "      <td>-0.030756</td>\n",
       "    </tr>\n",
       "    <tr>\n",
       "      <th>Price</th>\n",
       "      <td>-0.003951</td>\n",
       "      <td>0.508596</td>\n",
       "      <td>0.561849</td>\n",
       "      <td>-0.415135</td>\n",
       "      <td>0.091781</td>\n",
       "      <td>0.215490</td>\n",
       "      <td>-0.105014</td>\n",
       "      <td>-0.303097</td>\n",
       "      <td>0.020543</td>\n",
       "      <td>-0.034321</td>\n",
       "      <td>-0.118818</td>\n",
       "      <td>0.074608</td>\n",
       "      <td>-0.030756</td>\n",
       "      <td>1.000000</td>\n",
       "    </tr>\n",
       "  </tbody>\n",
       "</table>\n",
       "</div>"
      ],
      "text/plain": [
       "                        Unnamed: 0  yearOfRegistration   powerPS  kilometer  \\\n",
       "Unnamed: 0                1.000000           -0.003761  0.000748   0.003575   \n",
       "yearOfRegistration       -0.003761            1.000000  0.186486  -0.333933   \n",
       "powerPS                   0.000748            0.186486  1.000000  -0.014727   \n",
       "kilometer                 0.003575           -0.333933 -0.014727   1.000000   \n",
       "monthOfRegistration      -0.001194            0.044390  0.038635  -0.016177   \n",
       "namelen                  -0.005766            0.158798  0.106243  -0.105892   \n",
       "name_feat                 0.001829           -0.016603 -0.278687  -0.025035   \n",
       "gearbox_feat             -0.000744           -0.094694 -0.447440   0.035524   \n",
       "notRepairedDamage_feat    0.000527           -0.015699 -0.022761   0.005072   \n",
       "model_feat               -0.000600            0.041173 -0.132902  -0.023827   \n",
       "brand_feat                0.001523           -0.044526 -0.310254  -0.026645   \n",
       "fuelType_feat            -0.001659            0.142402  0.086305   0.115204   \n",
       "vehicleType_feat          0.000650            0.058958  0.112243   0.043183   \n",
       "Price                    -0.003951            0.508596  0.561849  -0.415135   \n",
       "\n",
       "                        monthOfRegistration   namelen  name_feat  \\\n",
       "Unnamed: 0                        -0.001194 -0.005766   0.001829   \n",
       "yearOfRegistration                 0.044390  0.158798  -0.016603   \n",
       "powerPS                            0.038635  0.106243  -0.278687   \n",
       "kilometer                         -0.016177 -0.105892  -0.025035   \n",
       "monthOfRegistration                1.000000  0.044338  -0.007326   \n",
       "namelen                            0.044338  1.000000   0.101474   \n",
       "name_feat                         -0.007326  0.101474   1.000000   \n",
       "gearbox_feat                      -0.049902 -0.150795   0.113288   \n",
       "notRepairedDamage_feat            -0.050227 -0.008167  -0.001520   \n",
       "model_feat                        -0.009070  0.078520   0.453217   \n",
       "brand_feat                        -0.012156  0.100056   0.850018   \n",
       "fuelType_feat                     -0.035938  0.043864  -0.025088   \n",
       "vehicleType_feat                  -0.004369 -0.026672  -0.114425   \n",
       "Price                              0.091781  0.215490  -0.105014   \n",
       "\n",
       "                        gearbox_feat  notRepairedDamage_feat  model_feat  \\\n",
       "Unnamed: 0                 -0.000744                0.000527   -0.000600   \n",
       "yearOfRegistration         -0.094694               -0.015699    0.041173   \n",
       "powerPS                    -0.447440               -0.022761   -0.132902   \n",
       "kilometer                   0.035524                0.005072   -0.023827   \n",
       "monthOfRegistration        -0.049902               -0.050227   -0.009070   \n",
       "namelen                    -0.150795               -0.008167    0.078520   \n",
       "name_feat                   0.113288               -0.001520    0.453217   \n",
       "gearbox_feat                1.000000                0.038948    0.046971   \n",
       "notRepairedDamage_feat      0.038948                1.000000    0.017825   \n",
       "model_feat                  0.046971                0.017825    1.000000   \n",
       "brand_feat                  0.125735                0.016474    0.472098   \n",
       "fuelType_feat              -0.057441                0.061819    0.049058   \n",
       "vehicleType_feat           -0.092224                0.027220   -0.136196   \n",
       "Price                      -0.303097                0.020543   -0.034321   \n",
       "\n",
       "                        brand_feat  fuelType_feat  vehicleType_feat     Price  \n",
       "Unnamed: 0                0.001523      -0.001659          0.000650 -0.003951  \n",
       "yearOfRegistration       -0.044526       0.142402          0.058958  0.508596  \n",
       "powerPS                  -0.310254       0.086305          0.112243  0.561849  \n",
       "kilometer                -0.026645       0.115204          0.043183 -0.415135  \n",
       "monthOfRegistration      -0.012156      -0.035938         -0.004369  0.091781  \n",
       "namelen                   0.100056       0.043864         -0.026672  0.215490  \n",
       "name_feat                 0.850018      -0.025088         -0.114425 -0.105014  \n",
       "gearbox_feat              0.125735      -0.057441         -0.092224 -0.303097  \n",
       "notRepairedDamage_feat    0.016474       0.061819          0.027220  0.020543  \n",
       "model_feat                0.472098       0.049058         -0.136196 -0.034321  \n",
       "brand_feat                1.000000      -0.023840         -0.102601 -0.118818  \n",
       "fuelType_feat            -0.023840       1.000000          0.090201  0.074608  \n",
       "vehicleType_feat         -0.102601       0.090201          1.000000 -0.030756  \n",
       "Price                    -0.118818       0.074608         -0.030756  1.000000  "
      ]
     },
     "execution_count": 10,
     "metadata": {},
     "output_type": "execute_result"
    },
    {
     "data": {
      "image/png": "[encoded data removed]",
      "text/plain": [
       "<matplotlib.figure.Figure at 0x2908fc0d7f0>"
      ]
     },
     "metadata": {},
     "output_type": "display_data"
    }
   ],
   "source": [
    "plot_correlation_map(usedcar_df)\n",
    "usedcar_df.corr()"
   ]
  },
  {
   "cell_type": "markdown",
   "metadata": {},
   "source": [
    "This is the list of the most influencing features for the price"
   ]
  },
  {
   "cell_type": "code",
   "execution_count": 11,
   "metadata": {},
   "outputs": [
    {
     "data": {
      "text/plain": [
       "powerPS                   0.561849\n",
       "yearOfRegistration        0.508596\n",
       "kilometer                 0.415135\n",
       "gearbox_feat              0.303097\n",
       "namelen                   0.215490\n",
       "brand_feat                0.118818\n",
       "name_feat                 0.105014\n",
       "monthOfRegistration       0.091781\n",
       "fuelType_feat             0.074608\n",
       "model_feat                0.034321\n",
       "vehicleType_feat          0.030756\n",
       "notRepairedDamage_feat    0.020543\n",
       "Unnamed: 0                0.003951\n",
       "Name: Price, dtype: float64"
      ]
     },
     "execution_count": 11,
     "metadata": {},
     "output_type": "execute_result"
    }
   ],
   "source": [
    "usedcar_df.corr().loc[:,'Price'].abs().sort_values(ascending=False)[1:]"
   ]
  },
  {
   "cell_type": "code",
   "execution_count": 12,
   "metadata": {},
   "outputs": [],
   "source": [
    "Y = usedcar_df['Price']"
   ]
  },
  {
   "cell_type": "code",
   "execution_count": 13,
   "metadata": {},
   "outputs": [
    {
     "data": {
      "text/plain": [
       "8.102756227318086"
      ]
     },
     "execution_count": 13,
     "metadata": {},
     "output_type": "execute_result"
    }
   ],
   "source": [
    "np.mean(Y)"
   ]
  },
  {
   "cell_type": "code",
   "execution_count": 14,
   "metadata": {},
   "outputs": [
    {
     "data": {
      "text/plain": [
       "8.160803920954665"
      ]
     },
     "execution_count": 14,
     "metadata": {},
     "output_type": "execute_result"
    }
   ],
   "source": [
    "np.median(Y)"
   ]
  },
  {
   "cell_type": "code",
   "execution_count": 15,
   "metadata": {},
   "outputs": [
    {
     "data": {
      "text/plain": [
       "11.918397239722838"
      ]
     },
     "execution_count": 15,
     "metadata": {},
     "output_type": "execute_result"
    }
   ],
   "source": [
    "np.max(Y)"
   ]
  },
  {
   "cell_type": "code",
   "execution_count": 16,
   "metadata": {},
   "outputs": [
    {
     "data": {
      "text/plain": [
       "4.61512051684126"
      ]
     },
     "execution_count": 16,
     "metadata": {},
     "output_type": "execute_result"
    }
   ],
   "source": [
    "np.min(Y)"
   ]
  },
  {
   "cell_type": "code",
   "execution_count": 17,
   "metadata": {},
   "outputs": [
    {
     "data": {
      "text/plain": [
       "1.4016983033483585"
      ]
     },
     "execution_count": 17,
     "metadata": {},
     "output_type": "execute_result"
    }
   ],
   "source": [
    "np.var(Y)"
   ]
  },
  {
   "cell_type": "code",
   "execution_count": 18,
   "metadata": {},
   "outputs": [],
   "source": [
    "X = usedcar_df.drop(['Price'],axis=1)"
   ]
  },
  {
   "cell_type": "code",
   "execution_count": 19,
   "metadata": {},
   "outputs": [
    {
     "data": {
      "text/html": [
       "<div>\n",
       "<style scoped>\n",
       "    .dataframe tbody tr th:only-of-type {\n",
       "        vertical-align: middle;\n",
       "    }\n",
       "\n",
       "    .dataframe tbody tr th {\n",
       "        vertical-align: top;\n",
       "    }\n",
       "\n",
       "    .dataframe thead th {\n",
       "        text-align: right;\n",
       "    }\n",
       "</style>\n",
       "<table border=\"1\" class=\"dataframe\">\n",
       "  <thead>\n",
       "    <tr style=\"text-align: right;\">\n",
       "      <th></th>\n",
       "      <th>Unnamed: 0</th>\n",
       "      <th>yearOfRegistration</th>\n",
       "      <th>powerPS</th>\n",
       "      <th>kilometer</th>\n",
       "      <th>monthOfRegistration</th>\n",
       "      <th>namelen</th>\n",
       "      <th>name_feat</th>\n",
       "      <th>gearbox_feat</th>\n",
       "      <th>notRepairedDamage_feat</th>\n",
       "      <th>model_feat</th>\n",
       "      <th>brand_feat</th>\n",
       "      <th>fuelType_feat</th>\n",
       "      <th>vehicleType_feat</th>\n",
       "    </tr>\n",
       "  </thead>\n",
       "  <tbody>\n",
       "    <tr>\n",
       "      <th>0</th>\n",
       "      <td>1</td>\n",
       "      <td>2011</td>\n",
       "      <td>190</td>\n",
       "      <td>125000</td>\n",
       "      <td>5</td>\n",
       "      <td>20</td>\n",
       "      <td>2857</td>\n",
       "      <td>1</td>\n",
       "      <td>0</td>\n",
       "      <td>163</td>\n",
       "      <td>1</td>\n",
       "      <td>3</td>\n",
       "      <td>3</td>\n",
       "    </tr>\n",
       "    <tr>\n",
       "      <th>1</th>\n",
       "      <td>2</td>\n",
       "      <td>2004</td>\n",
       "      <td>163</td>\n",
       "      <td>125000</td>\n",
       "      <td>8</td>\n",
       "      <td>30</td>\n",
       "      <td>73860</td>\n",
       "      <td>0</td>\n",
       "      <td>2</td>\n",
       "      <td>119</td>\n",
       "      <td>14</td>\n",
       "      <td>3</td>\n",
       "      <td>8</td>\n",
       "    </tr>\n",
       "    <tr>\n",
       "      <th>2</th>\n",
       "      <td>3</td>\n",
       "      <td>2001</td>\n",
       "      <td>75</td>\n",
       "      <td>150000</td>\n",
       "      <td>6</td>\n",
       "      <td>18</td>\n",
       "      <td>63156</td>\n",
       "      <td>1</td>\n",
       "      <td>1</td>\n",
       "      <td>118</td>\n",
       "      <td>38</td>\n",
       "      <td>1</td>\n",
       "      <td>4</td>\n",
       "    </tr>\n",
       "    <tr>\n",
       "      <th>3</th>\n",
       "      <td>4</td>\n",
       "      <td>2008</td>\n",
       "      <td>69</td>\n",
       "      <td>90000</td>\n",
       "      <td>7</td>\n",
       "      <td>30</td>\n",
       "      <td>139159</td>\n",
       "      <td>1</td>\n",
       "      <td>1</td>\n",
       "      <td>103</td>\n",
       "      <td>31</td>\n",
       "      <td>3</td>\n",
       "      <td>4</td>\n",
       "    </tr>\n",
       "    <tr>\n",
       "      <th>4</th>\n",
       "      <td>5</td>\n",
       "      <td>1995</td>\n",
       "      <td>102</td>\n",
       "      <td>150000</td>\n",
       "      <td>10</td>\n",
       "      <td>50</td>\n",
       "      <td>22533</td>\n",
       "      <td>1</td>\n",
       "      <td>0</td>\n",
       "      <td>11</td>\n",
       "      <td>2</td>\n",
       "      <td>1</td>\n",
       "      <td>6</td>\n",
       "    </tr>\n",
       "  </tbody>\n",
       "</table>\n",
       "</div>"
      ],
      "text/plain": [
       "   Unnamed: 0  yearOfRegistration  powerPS  kilometer  monthOfRegistration  \\\n",
       "0           1                2011      190     125000                    5   \n",
       "1           2                2004      163     125000                    8   \n",
       "2           3                2001       75     150000                    6   \n",
       "3           4                2008       69      90000                    7   \n",
       "4           5                1995      102     150000                   10   \n",
       "\n",
       "   namelen  name_feat  gearbox_feat  notRepairedDamage_feat  model_feat  \\\n",
       "0       20       2857             1                       0         163   \n",
       "1       30      73860             0                       2         119   \n",
       "2       18      63156             1                       1         118   \n",
       "3       30     139159             1                       1         103   \n",
       "4       50      22533             1                       0          11   \n",
       "\n",
       "   brand_feat  fuelType_feat  vehicleType_feat  \n",
       "0           1              3                 3  \n",
       "1          14              3                 8  \n",
       "2          38              1                 4  \n",
       "3          31              3                 4  \n",
       "4           2              1                 6  "
      ]
     },
     "execution_count": 19,
     "metadata": {},
     "output_type": "execute_result"
    }
   ],
   "source": [
    "X.head()"
   ]
  },
  {
   "cell_type": "code",
   "execution_count": 20,
   "metadata": {},
   "outputs": [
    {
     "data": {
      "text/plain": [
       "0    9.814711\n",
       "1    9.190240\n",
       "2    7.313887\n",
       "3    8.188967\n",
       "4    6.478510\n",
       "Name: Price, dtype: float64"
      ]
     },
     "execution_count": 20,
     "metadata": {},
     "output_type": "execute_result"
    }
   ],
   "source": [
    "Y.head()"
   ]
  },
  {
   "cell_type": "code",
   "execution_count": 21,
   "metadata": {},
   "outputs": [],
   "source": [
    "from sklearn.model_selection import train_test_split"
   ]
  },
  {
   "cell_type": "code",
   "execution_count": 22,
   "metadata": {},
   "outputs": [],
   "source": [
    "X_train, X_val, y_train, y_val = train_test_split(X, Y, test_size=0.25, random_state = 3)"
   ]
  },
  {
   "cell_type": "code",
   "execution_count": 23,
   "metadata": {},
   "outputs": [],
   "source": [
    "linreg = LinearRegression().fit(X_train,y_train)"
   ]
  },
  {
   "cell_type": "code",
   "execution_count": 24,
   "metadata": {},
   "outputs": [
    {
     "name": "stdout",
     "output_type": "stream",
     "text": [
      "Model Accuracy: 0.586663092549558\n"
     ]
    }
   ],
   "source": [
    "print(\"Model Accuracy:\",linreg.score(X_val,y_val))"
   ]
  }
 ],
 "metadata": {
  "kernelspec": {
   "display_name": "Python 3",
   "language": "python",
   "name": "python3"
  },
  "language_info": {
   "codemirror_mode": {
    "name": "ipython",
    "version": 3
   },
   "file_extension": ".py",
   "mimetype": "text/x-python",
   "name": "python",
   "nbconvert_exporter": "python",
   "pygments_lexer": "ipython3",
   "version": "3.6.4"
  }
 },
 "nbformat": 4,
 "nbformat_minor": 2
}
